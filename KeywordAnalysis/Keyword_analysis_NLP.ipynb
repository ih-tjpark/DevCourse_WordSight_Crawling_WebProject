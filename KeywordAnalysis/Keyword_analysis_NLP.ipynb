{
 "cells": [
  {
   "cell_type": "markdown",
   "id": "681e8e5e",
   "metadata": {},
   "source": [
    "# 1. Library 설치\n",
    "\n",
    "- 자바 설치 필요 (1.8 jdk version)\n",
    "- mac인 경우 특정 jdk설치 필요 (참고: https://jongsky.tistory.com/22)"
   ]
  },
  {
   "cell_type": "code",
   "execution_count": 1,
   "id": "3bb97e1d",
   "metadata": {},
   "outputs": [],
   "source": [
    "#!pip install konlpy\n",
    "#!pip install jpype1\n",
    "#!pip install pandas\n",
    "#!pip install keybert\n",
    "#!pip install Word2Vec\n",
    "#!pip install gensim\n",
    "#!pip install transformers"
   ]
  },
  {
   "cell_type": "code",
   "execution_count": 15,
   "id": "1b6f6c63",
   "metadata": {},
   "outputs": [
    {
     "name": "stdout",
     "output_type": "stream",
     "text": [
      "<class 'pandas.core.frame.DataFrame'>\n",
      "RangeIndex: 6406 entries, 0 to 6405\n",
      "Data columns (total 8 columns):\n",
      " #   Column         Non-Null Count  Dtype \n",
      "---  ------         --------------  ----- \n",
      " 0   title          6406 non-null   object\n",
      " 1   news_agency    6406 non-null   object\n",
      " 2   origin_url     6406 non-null   object\n",
      " 3   tag            6406 non-null   object\n",
      " 4   created_date   6406 non-null   object\n",
      " 5   reporter       6406 non-null   object\n",
      " 6   image          6406 non-null   object\n",
      " 7   news_contents  6406 non-null   object\n",
      "dtypes: object(8)\n",
      "memory usage: 400.5+ KB\n"
     ]
    }
   ],
   "source": [
    "from konlpy.tag import Okt\n",
    "import pandas as pd\n",
    "import json\n",
    "import re\n",
    "\n",
    "okt =Okt()\n",
    "df = pd.read_json('crawling_data_0504.json')\n",
    "df.info()"
   ]
  },
  {
   "cell_type": "markdown",
   "id": "6e09b229",
   "metadata": {},
   "source": [
    "# 2. Okt (형태소 분석)\n",
    "- 명사, 형용사, 동사 등의 태그를 붙여 원하는 형태소만 추출\n",
    "- 뉴스에서 의미있는 키워드를 가지고 오기위해 명사만 추출"
   ]
  },
  {
   "cell_type": "code",
   "execution_count": 16,
   "id": "53c4b5df",
   "metadata": {},
   "outputs": [],
   "source": [
    "def toknizer(sentence):\n",
    "    try:\n",
    "        morphs = okt.pos(sentence)\n",
    "        primaryTok = [\"Noun\"]\n",
    "        morphs = (morp for morp in morphs if morp[1] in primaryTok)\n",
    "        morphs = (morph for morph in morphs if not (len(morph[0]) == 1))\n",
    "        result=''\n",
    "        for morph in morphs:\n",
    "            if result!='':\n",
    "                    result+=\" \"\n",
    "            result+=morph[0]\n",
    "    except Exception as e:\n",
    "        print('Error:',e)\n",
    "        print('Error:',sentence)\n",
    "        result = ''\n",
    "    return result"
   ]
  },
  {
   "cell_type": "code",
   "execution_count": 17,
   "id": "35ab43e9",
   "metadata": {},
   "outputs": [],
   "source": [
    "# toknizing 진행\n",
    "df_tok = df['news_contents'].map(toknizer)"
   ]
  },
  {
   "cell_type": "code",
   "execution_count": 18,
   "id": "90b86b02",
   "metadata": {
    "scrolled": true
   },
   "outputs": [
    {
     "name": "stdout",
     "output_type": "stream",
     "text": [
      "\"하루빨리 통과 자치분권 속도 내야\"\n",
      "\"하루빨리 통과 자치분권 속도 내야\" 전국 17개 시ㆍ도지사들이 2일 ‘자치분권 및 균형발전 특별법’의 조기 제정을 촉구하고 나섰다.\n",
      "\n",
      "대한민국시도지사협의회(회장 이철우 경북지사)는 2일 ‘지방시대’ 구현을 위한 제도적 기반이 될 ‘지방자치분권 및 지역균형발전에 관한 특별법(이하 특별법)’의 제정은 더 이상 지체해선 안되는 시급한 과제라면서 정치권에 이같이 요구했다.\n",
      "\n",
      "이와 함께 일부 교육계에서 우려하는 ‘특별법’의 제35조ㆍ제36조에 대해 “교육자치와 지방자치 ‘통합’의 의미는 행ㆍ재정적 비효율성을 개선하고, 시ㆍ도와 시ㆍ도 교육청간의 연계ㆍ협력을 강화시켜야 한다는 의미로 해석해야 하며 교육의 정치적 중립성ㆍ전문성ㆍ자주성을 저해한다고 단정해서는 안된다”고 강조했다.\n",
      "\n",
      "또한 “해당 조항은 2010년 ‘행정체제 개편에 관한 특별법’에 신설돼 이미 지난 13년 동안 유지된 조항”이라며 “시ㆍ도와 시ㆍ도 교육청이 분리 운영돼 나타나는 비효율을 개선하고자 하는 의미를 담고 있다”고 역설했다.\n",
      "\n",
      "이철우 회장은 “자치분권 및 균형발전에 관한 특별법이 하루라도 빨리 통과돼 ‘지방시대위원회’를 중심으로 정부의 자치분권과 균형발전이 속도감 있게 추진되어야 한다”면서 “지방을 살리겠다는 이 법의 취지를 모두가 공감할 수 있도록 문제를 제기하는 국회 법사위원들을 대상으로 설득해 나가겠다”고 밝혔다. 남궁창성\n",
      "----------------------------------------------------------\n",
      "------------------------toknizing-------------------------\n",
      "----------------------------------------------------------\n",
      "통과 자치 분권 속도 내야 통과 자치 분권 속도 내야 전국 도지사 자치 분권 균형발전 특별법 조기 제정 촉구 대한민국 도지사 협의 회장 이철우 경북 지사 지방시 구현 제도 기반 지방자치 분권 지역 균형발전 특별법 이하 특별법 제정 이상 지체 과제 라면 정치권 요구 일부 교육 우려 특별법 대해 교육 자치 지방자치 통합 의미 재정 효율 개선 교육청 협력 강화 의미 해석 교육 정치 중립성 전문성 자주성 저해 강조 또한 해당 조항 행정 체제 개편 특별법 신설 지난 동안 유지 조항 라며 교육청 분리 운영 효율 개선 의미 역설 이철우 회장 자치 분권 균형발전 특별법 하루 통과 지방시 위원회 중심 정부 자치 분권 균형발전 도감 추진 면서 지방 취지 모두 공감 문제 제기 국회 법사 위원 대상 설득 남궁 창성\n"
     ]
    }
   ],
   "source": [
    "print(df['news_contents'][0])\n",
    "print(\"----------------------------------------------------------\")\n",
    "print(\"------------------------toknizing-------------------------\")\n",
    "print(\"----------------------------------------------------------\")\n",
    "print(df_tok[0])"
   ]
  },
  {
   "cell_type": "code",
   "execution_count": null,
   "id": "d8bbd383",
   "metadata": {},
   "outputs": [],
   "source": []
  },
  {
   "cell_type": "markdown",
   "id": "683e6fda",
   "metadata": {},
   "source": [
    "# 3. KeyBERT (키워드 추출)\n",
    "- <b>KeyBERT란\n",
    "    - 토픽 모델링 중 키워드 추출을 위해 BERT를 적용한 오픈소스 파이썬 모듈\n",
    "    - 텍스트 임베딩 단계에서 BERT를 사용하기 때문에 BERT-based모델\n",
    "    - 원리: BERT를 이용해 문서 레벨에서 주제를 파악하고, N-gram을 위해 단어를 임베딩한다. <br>이후 코사인 유사도를 계산하여 어떤 N-gram또는 단어가 문서와 가장 유사한지 찾아낸다. <br>가장 유사한 단어들은 문서를 가장 잘 설명할 수 있는 키워드로 분류한다.\n",
    "\n",
    "- <B>mmr\n",
    "    - 텍스트 요약 작업에서 중복을 최소화 하고 결과의 다양성을 극대화 하는 방법\n",
    "    - 참고 EmbedRank(https://arxiv.org/pdf/1801.04470.pdf)\n",
    "    - 가장 유사한 키워드 선택 -> 다음 문서와 유사하지만 이미 선택된 키워드와는 유사하지 않은 새로운 후보를 반복적으로 선택함\n",
    "    - diversity가 높을수록 유사도가 낮은 키워드가 뽑힘"
   ]
  },
  {
   "cell_type": "code",
   "execution_count": 19,
   "id": "bb8b6adf",
   "metadata": {},
   "outputs": [],
   "source": [
    "# 모델 불러올 때 kernel 죽을 경우 Memory 설정 변경 필요\n",
    "# (mac기준) 터미널에서 jupyter notebook --generate-config 입력 후 주피터 프로파일 생성\n",
    "# 아나콘다 기본 경로 기준 username/.jupyer/jupyer_noteook_config.py 파일 변경해야함\n",
    "# c.NotebookApp.max_buffer_size= 100000000000000\n",
    "# 이 방법으로도 안되면 python3.7 버전 설치\n",
    "from keybert import KeyBERT\n",
    "from transformers import BertModel\n",
    "\n",
    "tr_model = BertModel.from_pretrained('skt/kobert-base-v1')\n",
    "kw_model = KeyBERT(tr_model)"
   ]
  },
  {
   "cell_type": "code",
   "execution_count": 20,
   "id": "e9cc864e",
   "metadata": {},
   "outputs": [],
   "source": [
    "def key_extraction(sentence):\n",
    "    keybert = kw_model.extract_keywords(sentence,top_n =20,use_mmr=True, diversity = 0.3)\n",
    "    result = [k for k,v in keybert]\n",
    "    return result"
   ]
  },
  {
   "cell_type": "code",
   "execution_count": null,
   "id": "80974882",
   "metadata": {},
   "outputs": [],
   "source": [
    "# key_bert 진행\n",
    "df_tok_keyword = df_tok.map(key_extraction)"
   ]
  },
  {
   "cell_type": "code",
   "execution_count": 43,
   "id": "69ee727d",
   "metadata": {},
   "outputs": [
    {
     "data": {
      "text/plain": [
       "[('정부', 0.546),\n",
       " ('지방자치', 0.5293),\n",
       " ('정치권', 0.5274),\n",
       " ('교육청', 0.5101),\n",
       " ('대한민국', 0.4724),\n",
       " ('국회', 0.4721),\n",
       " ('행정', 0.4717),\n",
       " ('경북', 0.4609),\n",
       " ('위원회', 0.4509),\n",
       " ('교육', 0.4213),\n",
       " ('전국', 0.4016),\n",
       " ('특별법', 0.3898),\n",
       " ('제도', 0.3832),\n",
       " ('중립성', 0.3577),\n",
       " ('협력', 0.3562),\n",
       " ('통합', 0.3474),\n",
       " ('구현', 0.3178),\n",
       " ('중심', 0.3095),\n",
       " ('균형발전', 0.309),\n",
       " ('효율', 0.2799)]"
      ]
     },
     "execution_count": 43,
     "metadata": {},
     "output_type": "execute_result"
    }
   ],
   "source": [
    "#예시\n",
    "kw_model.extract_keywords(df_tok[0], top_n = 20, use_mmr=True, diversity = 0.3)"
   ]
  },
  {
   "cell_type": "markdown",
   "id": "cedacc6e",
   "metadata": {},
   "source": [
    "# 4. Word2Vec (연관 단어 추출)\n",
    "- 단어간의 유사도를 구할 수 있는 인공신경망 모델 (딥러닝 x) (참고:https://wikidocs.net/22660)\n",
    "\n",
    "- model학습 parameter\n",
    "\n",
    "    - CBOW = 중간 단어 예측, skip gram = 중간 단어로 주변 단어 예측\n",
    "\n",
    "    - CBOW 같은 경우 한 문장에 대해서 한 단어는 1번 학습되지만\n",
    "\n",
    "    - skip gram 같은 경우 단어 별로 여러번 학습 된다.\n",
    "\n",
    "    - vector_size = 워드 벡터의 특징 값. 즉, 임베딩 된 벡터의 차원.\n",
    "\n",
    "    - window = 컨텍스트 윈도우 크기\n",
    "\n",
    "    - min_count = 단어 최소 빈도 수 제한 (빈도가 적은 단어들은 학습하지 않는다.)\n",
    "\n",
    "    - workers = 학습을 위한 프로세스 수\n",
    "\n",
    "    - sg = 0은 CBOW, 1은 Skip-gram"
   ]
  },
  {
   "cell_type": "code",
   "execution_count": 47,
   "id": "af60a71b",
   "metadata": {},
   "outputs": [],
   "source": [
    "from gensim.models import Word2Vec, KeyedVectors\n",
    "import gensim"
   ]
  },
  {
   "cell_type": "code",
   "execution_count": 50,
   "id": "99f9a1c8",
   "metadata": {},
   "outputs": [
    {
     "data": {
      "text/plain": [
       "630"
      ]
     },
     "execution_count": 50,
     "metadata": {},
     "output_type": "execute_result"
    }
   ],
   "source": [
    "df_tok_list = list(df_tok_keyword)\n",
    "len(df_tok_list)\n"
   ]
  },
  {
   "cell_type": "code",
   "execution_count": 140,
   "id": "e8229fcb",
   "metadata": {},
   "outputs": [],
   "source": [
    "df_tok_list = list(df2['keyword'])"
   ]
  },
  {
   "cell_type": "code",
   "execution_count": 141,
   "id": "5f455d9f",
   "metadata": {},
   "outputs": [],
   "source": [
    "# Word2Vec 모델 학습\n",
    "model = Word2Vec(df_tok_list, vector_size=100, window=5, min_count=5, workers=4, sg=1)"
   ]
  },
  {
   "cell_type": "code",
   "execution_count": 142,
   "id": "76fcb0a3",
   "metadata": {},
   "outputs": [
    {
     "data": {
      "text/plain": [
       "[('학습', 0.9841373562812805),\n",
       " ('교육감', 0.9826186299324036),\n",
       " ('학부모', 0.9717382192611694),\n",
       " ('학과', 0.9647219181060791),\n",
       " ('교육청', 0.9617974758148193),\n",
       " ('교육과정', 0.956384539604187),\n",
       " ('교실', 0.9554803967475891),\n",
       " ('고등학교', 0.9536389112472534),\n",
       " ('중학생', 0.9521279335021973),\n",
       " ('진학', 0.9481607675552368)]"
      ]
     },
     "execution_count": 142,
     "metadata": {},
     "output_type": "execute_result"
    }
   ],
   "source": [
    "# 결과 예시\n",
    "model.wv.most_similar('교육')\n",
    "\n",
    "# 키 목록\n",
    "#model.wv.index_to_key"
   ]
  },
  {
   "cell_type": "code",
   "execution_count": null,
   "id": "5046271c",
   "metadata": {},
   "outputs": [],
   "source": [
    "# 모델 저장\n",
    "model.save('word2vec_model')\n"
   ]
  },
  {
   "cell_type": "code",
   "execution_count": null,
   "id": "14e79a44",
   "metadata": {},
   "outputs": [],
   "source": [
    "# 모델 불러오기\n",
    "model = Word2Vec.load(\"word2vec_model\")"
   ]
  }
 ],
 "metadata": {
  "kernelspec": {
   "display_name": "Python 3 (ipykernel)",
   "language": "python",
   "name": "python3"
  },
  "language_info": {
   "codemirror_mode": {
    "name": "ipython",
    "version": 3
   },
   "file_extension": ".py",
   "mimetype": "text/x-python",
   "name": "python",
   "nbconvert_exporter": "python",
   "pygments_lexer": "ipython3",
   "version": "3.9.12"
  }
 },
 "nbformat": 4,
 "nbformat_minor": 5
}
